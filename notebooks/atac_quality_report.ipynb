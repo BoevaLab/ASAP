{
 "cells": [
  {
   "cell_type": "markdown",
   "source": [
    "# ATAC-seq Quality Report Analysis\n",
    "\n",
    "Here we explain the key fields in an ATAC-seq quality report JSON from the ENCODE [atac-seq-pipeline](https://github.com/ENCODE-DCC/atac-seq-pipeline/tree/master). These metrics providing insights into the data quality and characteristics.\n",
    "\n",
    "## Detailed ATAC-seq Fields\n",
    "\n",
    "The fields in bold are particularly important for assessing the overall quality of ATAC-seq data.\n",
    "\n",
    "\n",
    "| Field Path                                            | Explanation                                                   | Good Value Range |\n",
    "|-------------------------------------------------------|---------------------------------------------------------------|------------------|\n",
    "| `general.date`                                        | Date of the report generation.                                | N/A              |\n",
    "| `general.title`                                       | Title or identifier of the ATAC-seq experiment.               | N/A              |\n",
    "| **`align.dup.pct_duplicate_reads`**                   | Percentage of duplicate reads.                                | `< 10%`          |\n",
    "| **`align.nodup_samstat.pct_mapped_reads`**            | Percentage of reads mapped to the genome.                     | `> 70%`          |\n",
    "| **`align.nodup_samstat.pct_properly_paired_reads`**   | Percentage of reads properly paired in sequencing.            | `> 70%`          |\n",
    "| **`align.frag_len_stat.frac_reads_in_nfr`**           | Fraction of reads in nucleosome-free regions (NFR).           | `~0.4 or higher` |\n",
    "| `align.frag_len_stat.nfr_over_mono_nuc_reads`         | Ratio of NFR over mononucleosomal reads.                      | `> 2.5`          |\n",
    "| `align.frag_len_stat.nfr_peak_exists`                 | Indicates existence of NFR peak.                              | `true`           |\n",
    "| `align.frag_len_stat.mono_nuc_peak_exists`            | Indicates existence of mononucleosomal peak.                  | `true`           |\n",
    "| `align.frag_len_stat.di_nuc_peak_exists`              | Indicates existence of dinucleosomal peak.                    | `true`           |\n",
    "| `align.frac_reads_in_annot.fri_dhs`                   | Fraction of reads in DHS sites.                               | N/A              |\n",
    "| `align.frac_reads_in_annot.fri_blacklist`             | Fraction of reads in blacklist regions.                       | `< 0.01`         |\n",
    "| `align.frac_reads_in_annot.fri_prom`                  | Fraction of reads in promoter regions.                        | N/A              |\n",
    "| `align.frac_reads_in_annot.fri_enh`                   | Fraction of reads in enhancer regions.                        | N/A              |\n",
    "| **`lib_complexity.lib_complexity.NRF`**               | Non-Redundant Fraction, measuring library complexity.         | `> 0.8`          |\n",
    "| **`lib_complexity.lib_complexity.PBC1`**              | PCR Bottleneck Coefficient 1, indicating PCR duplication.     | `> 0.9`          |\n",
    "| `lib_complexity.lib_complexity.PBC2`                  | PCR Bottleneck Coefficient 2, another PCR duplication metric. | `> 1.0`          |\n",
    "| **`replication.num_peaks.rep1.num_peaks`**            | Number of peaks identified.                                   | `> 50000`        |\n",
    "| `peak_stat.peak_region_size.rep1.min_size`            | Minimum size of the peak regions.                             | `> 150`          |\n",
    "| `peak_stat.peak_region_size.rep1.mean`                | Mean size of the peak regions.                                | N/A              |\n",
    "| **`align_enrich.xcor_score.rep1.NSC`**                | Normalized Strand Coefficient, assessing signal-to-noise.     | `> 1.1`          |\n",
    "| `align_enrich.xcor_score.rep1.RSC`                    | Relative Strand Coefficient, another signal-to-noise metric.  | `> 1.0`          |\n",
    "| **`peak_enrich.frac_reads_in_peaks.macs2.rep1.frip`** | Fraction of reads in peaks (FRiP) using MACS2 peak caller.    | `> 0.1`          |\n",
    "\n"
   ],
   "metadata": {
    "collapsed": false
   }
  },
  {
   "cell_type": "code",
   "execution_count": 1,
   "outputs": [
    {
     "data": {
      "text/plain": "                   date         title  frac_reads_in_nfr  \\\n0   2024-01-10 06:09:41  TCGA-AP-A051           0.346145   \n1   2024-01-10 09:32:24  TCGA-AY-A54L           0.312177   \n2   2024-01-11 04:24:41  TCGA-DU-6407           0.423323   \n3   2024-01-10 19:14:44  TCGA-B9-A44B           0.317012   \n4   2024-01-10 12:26:32  TCGA-B1-A47N           0.401889   \n5   2024-01-09 13:01:12  TCGA-A6-A567           0.405408   \n6   2024-01-20 10:46:22  TCGA-IA-A40X           0.392451   \n7   2024-01-11 08:02:49  TCGA-HE-A5NH           0.482740   \n8   2024-01-09 23:40:39  TCGA-AA-A01X           0.377609   \n9   2024-01-10 15:34:47  TCGA-B5-A0JN           0.276540   \n10  2024-01-10 02:57:48  TCGA-AO-A124           0.237251   \n11  2024-01-10 22:35:55  TCGA-BA-A4IH           0.381547   \n12  2024-01-20 17:25:53  TCGA-QG-A5YV           0.385582   \n13  2024-01-20 20:35:33  TCGA-QG-A5YX           0.410430   \n14  2024-01-11 01:10:03  TCGA-BJ-A0Z2           0.440232   \n15  2024-01-09 15:53:17  TCGA-A6-A56B           0.398279   \n16  2024-01-09 20:49:22  TCGA-AA-A01S           0.477311   \n17  2024-01-11 11:09:28  TCGA-HE-A5NJ           0.217726   \n\n    nfr_over_mono_nuc_reads  nfr_peak_exists  mono_nuc_peak_exists  \\\n0                  0.981242             True                  True   \n1                  1.022006             True                  True   \n2                  1.237476             True                  True   \n3                  1.129282             True                  True   \n4                  1.302718             True                  True   \n5                  1.215256             True                  True   \n6                  1.588995             True                  True   \n7                  1.836700             True                  True   \n8                  1.091841             True                  True   \n9                  1.215163             True                  True   \n10                 0.697934             True                  True   \n11                 1.162431             True                  True   \n12                 1.355750             True                  True   \n13                 1.454129             True                  True   \n14                 1.713762             True                  True   \n15                 1.418167             True                  True   \n16                 1.794146             True                  True   \n17                 0.610148             True                  True   \n\n    di_nuc_peak_exists   fri_dhs  fri_blacklist  fri_prom   fri_enh       NRF  \\\n0                 True  0.432471       0.002295  0.214927  0.302420  0.988663   \n1                 True  0.440085       0.001682  0.193148  0.338942  0.995216   \n2                 True  0.453153       0.001252  0.222062  0.330625  0.992130   \n3                 True  0.276370       0.002992  0.101635  0.289806  0.998843   \n4                 True  0.516189       0.002071  0.261557  0.311906  0.988646   \n5                 True  0.491502       0.001692  0.236802  0.320220  0.988347   \n6                 True  0.611005       0.001052  0.323416  0.347298  0.975650   \n7                 True  0.576222       0.001630  0.298424  0.322387  0.980538   \n8                 True  0.524091       0.001284  0.219911  0.390450  0.990223   \n9                 True  0.386098       0.001770  0.178827  0.317152  0.996945   \n10                True  0.432847       0.001840  0.214396  0.315608  0.994965   \n11                True  0.379236       0.001547  0.173743  0.301185  0.995678   \n12                True  0.510665       0.001330  0.228438  0.352126  0.978435   \n13                True  0.459455       0.001041  0.209609  0.347326  0.993894   \n14                True  0.583642       0.001251  0.302449  0.359334  0.983106   \n15                True  0.582188       0.000715  0.289306  0.359930  0.988337   \n16                True  0.512719       0.001231  0.224532  0.363065  0.975650   \n17                True  0.375363       0.002881  0.160579  0.309219  0.995811   \n\n        PBC1        PBC2  num_peaks        mean       NSC       RSC      frip  \n0   0.989174   96.613347     299091  698.216677  2.199994  1.862752  0.416858  \n1   0.995265  212.206257     279590  681.531296  1.877674  1.949106  0.366214  \n2   0.992190  128.591784     229710  653.739567  2.229879  1.624910  0.378840  \n3   0.998882  909.951737     293561  594.796683  1.202934  2.592615  0.185110  \n4   0.988672   88.098758     202591  624.825140  2.994427  1.473605  0.447667  \n5   0.988382   86.003628     275256  615.590628  2.502083  1.573176  0.423152  \n6   0.977003   46.161037     285193  688.836868  3.177248  1.753729  0.596647  \n7   0.980713   52.069319     226808  624.423706  3.463414  1.535592  0.527078  \n8   0.990225  101.985691     253742  634.296794  2.472689  1.601339  0.462303  \n9   0.996987  334.891692     298964  611.575594  1.643618  2.134132  0.315661  \n10  0.994995  200.218378     299132  884.553271  1.921758  2.062700  0.394314  \n11  0.995735  236.459165     299152  626.483918  1.657616  1.757551  0.303356  \n12  0.978951   48.580789     299123  730.708769  2.332086  1.710628  0.472783  \n13  0.993958  166.527113     230342  658.325746  1.982451  1.798628  0.382370  \n14  0.983132   59.148821     234856  630.476573  3.864824  1.627192  0.600030  \n15  0.988423   86.707422     244332  670.307508  2.932379  1.723724  0.533015  \n16  0.977143   46.758160     257937  556.583840  2.570074  1.601195  0.456721  \n17  0.995926  250.656101     277842  815.211645  1.530837  2.174222  0.325156  ",
      "text/html": "<div>\n<style scoped>\n    .dataframe tbody tr th:only-of-type {\n        vertical-align: middle;\n    }\n\n    .dataframe tbody tr th {\n        vertical-align: top;\n    }\n\n    .dataframe thead th {\n        text-align: right;\n    }\n</style>\n<table border=\"1\" class=\"dataframe\">\n  <thead>\n    <tr style=\"text-align: right;\">\n      <th></th>\n      <th>date</th>\n      <th>title</th>\n      <th>frac_reads_in_nfr</th>\n      <th>nfr_over_mono_nuc_reads</th>\n      <th>nfr_peak_exists</th>\n      <th>mono_nuc_peak_exists</th>\n      <th>di_nuc_peak_exists</th>\n      <th>fri_dhs</th>\n      <th>fri_blacklist</th>\n      <th>fri_prom</th>\n      <th>fri_enh</th>\n      <th>NRF</th>\n      <th>PBC1</th>\n      <th>PBC2</th>\n      <th>num_peaks</th>\n      <th>mean</th>\n      <th>NSC</th>\n      <th>RSC</th>\n      <th>frip</th>\n    </tr>\n  </thead>\n  <tbody>\n    <tr>\n      <th>0</th>\n      <td>2024-01-10 06:09:41</td>\n      <td>TCGA-AP-A051</td>\n      <td>0.346145</td>\n      <td>0.981242</td>\n      <td>True</td>\n      <td>True</td>\n      <td>True</td>\n      <td>0.432471</td>\n      <td>0.002295</td>\n      <td>0.214927</td>\n      <td>0.302420</td>\n      <td>0.988663</td>\n      <td>0.989174</td>\n      <td>96.613347</td>\n      <td>299091</td>\n      <td>698.216677</td>\n      <td>2.199994</td>\n      <td>1.862752</td>\n      <td>0.416858</td>\n    </tr>\n    <tr>\n      <th>1</th>\n      <td>2024-01-10 09:32:24</td>\n      <td>TCGA-AY-A54L</td>\n      <td>0.312177</td>\n      <td>1.022006</td>\n      <td>True</td>\n      <td>True</td>\n      <td>True</td>\n      <td>0.440085</td>\n      <td>0.001682</td>\n      <td>0.193148</td>\n      <td>0.338942</td>\n      <td>0.995216</td>\n      <td>0.995265</td>\n      <td>212.206257</td>\n      <td>279590</td>\n      <td>681.531296</td>\n      <td>1.877674</td>\n      <td>1.949106</td>\n      <td>0.366214</td>\n    </tr>\n    <tr>\n      <th>2</th>\n      <td>2024-01-11 04:24:41</td>\n      <td>TCGA-DU-6407</td>\n      <td>0.423323</td>\n      <td>1.237476</td>\n      <td>True</td>\n      <td>True</td>\n      <td>True</td>\n      <td>0.453153</td>\n      <td>0.001252</td>\n      <td>0.222062</td>\n      <td>0.330625</td>\n      <td>0.992130</td>\n      <td>0.992190</td>\n      <td>128.591784</td>\n      <td>229710</td>\n      <td>653.739567</td>\n      <td>2.229879</td>\n      <td>1.624910</td>\n      <td>0.378840</td>\n    </tr>\n    <tr>\n      <th>3</th>\n      <td>2024-01-10 19:14:44</td>\n      <td>TCGA-B9-A44B</td>\n      <td>0.317012</td>\n      <td>1.129282</td>\n      <td>True</td>\n      <td>True</td>\n      <td>True</td>\n      <td>0.276370</td>\n      <td>0.002992</td>\n      <td>0.101635</td>\n      <td>0.289806</td>\n      <td>0.998843</td>\n      <td>0.998882</td>\n      <td>909.951737</td>\n      <td>293561</td>\n      <td>594.796683</td>\n      <td>1.202934</td>\n      <td>2.592615</td>\n      <td>0.185110</td>\n    </tr>\n    <tr>\n      <th>4</th>\n      <td>2024-01-10 12:26:32</td>\n      <td>TCGA-B1-A47N</td>\n      <td>0.401889</td>\n      <td>1.302718</td>\n      <td>True</td>\n      <td>True</td>\n      <td>True</td>\n      <td>0.516189</td>\n      <td>0.002071</td>\n      <td>0.261557</td>\n      <td>0.311906</td>\n      <td>0.988646</td>\n      <td>0.988672</td>\n      <td>88.098758</td>\n      <td>202591</td>\n      <td>624.825140</td>\n      <td>2.994427</td>\n      <td>1.473605</td>\n      <td>0.447667</td>\n    </tr>\n    <tr>\n      <th>5</th>\n      <td>2024-01-09 13:01:12</td>\n      <td>TCGA-A6-A567</td>\n      <td>0.405408</td>\n      <td>1.215256</td>\n      <td>True</td>\n      <td>True</td>\n      <td>True</td>\n      <td>0.491502</td>\n      <td>0.001692</td>\n      <td>0.236802</td>\n      <td>0.320220</td>\n      <td>0.988347</td>\n      <td>0.988382</td>\n      <td>86.003628</td>\n      <td>275256</td>\n      <td>615.590628</td>\n      <td>2.502083</td>\n      <td>1.573176</td>\n      <td>0.423152</td>\n    </tr>\n    <tr>\n      <th>6</th>\n      <td>2024-01-20 10:46:22</td>\n      <td>TCGA-IA-A40X</td>\n      <td>0.392451</td>\n      <td>1.588995</td>\n      <td>True</td>\n      <td>True</td>\n      <td>True</td>\n      <td>0.611005</td>\n      <td>0.001052</td>\n      <td>0.323416</td>\n      <td>0.347298</td>\n      <td>0.975650</td>\n      <td>0.977003</td>\n      <td>46.161037</td>\n      <td>285193</td>\n      <td>688.836868</td>\n      <td>3.177248</td>\n      <td>1.753729</td>\n      <td>0.596647</td>\n    </tr>\n    <tr>\n      <th>7</th>\n      <td>2024-01-11 08:02:49</td>\n      <td>TCGA-HE-A5NH</td>\n      <td>0.482740</td>\n      <td>1.836700</td>\n      <td>True</td>\n      <td>True</td>\n      <td>True</td>\n      <td>0.576222</td>\n      <td>0.001630</td>\n      <td>0.298424</td>\n      <td>0.322387</td>\n      <td>0.980538</td>\n      <td>0.980713</td>\n      <td>52.069319</td>\n      <td>226808</td>\n      <td>624.423706</td>\n      <td>3.463414</td>\n      <td>1.535592</td>\n      <td>0.527078</td>\n    </tr>\n    <tr>\n      <th>8</th>\n      <td>2024-01-09 23:40:39</td>\n      <td>TCGA-AA-A01X</td>\n      <td>0.377609</td>\n      <td>1.091841</td>\n      <td>True</td>\n      <td>True</td>\n      <td>True</td>\n      <td>0.524091</td>\n      <td>0.001284</td>\n      <td>0.219911</td>\n      <td>0.390450</td>\n      <td>0.990223</td>\n      <td>0.990225</td>\n      <td>101.985691</td>\n      <td>253742</td>\n      <td>634.296794</td>\n      <td>2.472689</td>\n      <td>1.601339</td>\n      <td>0.462303</td>\n    </tr>\n    <tr>\n      <th>9</th>\n      <td>2024-01-10 15:34:47</td>\n      <td>TCGA-B5-A0JN</td>\n      <td>0.276540</td>\n      <td>1.215163</td>\n      <td>True</td>\n      <td>True</td>\n      <td>True</td>\n      <td>0.386098</td>\n      <td>0.001770</td>\n      <td>0.178827</td>\n      <td>0.317152</td>\n      <td>0.996945</td>\n      <td>0.996987</td>\n      <td>334.891692</td>\n      <td>298964</td>\n      <td>611.575594</td>\n      <td>1.643618</td>\n      <td>2.134132</td>\n      <td>0.315661</td>\n    </tr>\n    <tr>\n      <th>10</th>\n      <td>2024-01-10 02:57:48</td>\n      <td>TCGA-AO-A124</td>\n      <td>0.237251</td>\n      <td>0.697934</td>\n      <td>True</td>\n      <td>True</td>\n      <td>True</td>\n      <td>0.432847</td>\n      <td>0.001840</td>\n      <td>0.214396</td>\n      <td>0.315608</td>\n      <td>0.994965</td>\n      <td>0.994995</td>\n      <td>200.218378</td>\n      <td>299132</td>\n      <td>884.553271</td>\n      <td>1.921758</td>\n      <td>2.062700</td>\n      <td>0.394314</td>\n    </tr>\n    <tr>\n      <th>11</th>\n      <td>2024-01-10 22:35:55</td>\n      <td>TCGA-BA-A4IH</td>\n      <td>0.381547</td>\n      <td>1.162431</td>\n      <td>True</td>\n      <td>True</td>\n      <td>True</td>\n      <td>0.379236</td>\n      <td>0.001547</td>\n      <td>0.173743</td>\n      <td>0.301185</td>\n      <td>0.995678</td>\n      <td>0.995735</td>\n      <td>236.459165</td>\n      <td>299152</td>\n      <td>626.483918</td>\n      <td>1.657616</td>\n      <td>1.757551</td>\n      <td>0.303356</td>\n    </tr>\n    <tr>\n      <th>12</th>\n      <td>2024-01-20 17:25:53</td>\n      <td>TCGA-QG-A5YV</td>\n      <td>0.385582</td>\n      <td>1.355750</td>\n      <td>True</td>\n      <td>True</td>\n      <td>True</td>\n      <td>0.510665</td>\n      <td>0.001330</td>\n      <td>0.228438</td>\n      <td>0.352126</td>\n      <td>0.978435</td>\n      <td>0.978951</td>\n      <td>48.580789</td>\n      <td>299123</td>\n      <td>730.708769</td>\n      <td>2.332086</td>\n      <td>1.710628</td>\n      <td>0.472783</td>\n    </tr>\n    <tr>\n      <th>13</th>\n      <td>2024-01-20 20:35:33</td>\n      <td>TCGA-QG-A5YX</td>\n      <td>0.410430</td>\n      <td>1.454129</td>\n      <td>True</td>\n      <td>True</td>\n      <td>True</td>\n      <td>0.459455</td>\n      <td>0.001041</td>\n      <td>0.209609</td>\n      <td>0.347326</td>\n      <td>0.993894</td>\n      <td>0.993958</td>\n      <td>166.527113</td>\n      <td>230342</td>\n      <td>658.325746</td>\n      <td>1.982451</td>\n      <td>1.798628</td>\n      <td>0.382370</td>\n    </tr>\n    <tr>\n      <th>14</th>\n      <td>2024-01-11 01:10:03</td>\n      <td>TCGA-BJ-A0Z2</td>\n      <td>0.440232</td>\n      <td>1.713762</td>\n      <td>True</td>\n      <td>True</td>\n      <td>True</td>\n      <td>0.583642</td>\n      <td>0.001251</td>\n      <td>0.302449</td>\n      <td>0.359334</td>\n      <td>0.983106</td>\n      <td>0.983132</td>\n      <td>59.148821</td>\n      <td>234856</td>\n      <td>630.476573</td>\n      <td>3.864824</td>\n      <td>1.627192</td>\n      <td>0.600030</td>\n    </tr>\n    <tr>\n      <th>15</th>\n      <td>2024-01-09 15:53:17</td>\n      <td>TCGA-A6-A56B</td>\n      <td>0.398279</td>\n      <td>1.418167</td>\n      <td>True</td>\n      <td>True</td>\n      <td>True</td>\n      <td>0.582188</td>\n      <td>0.000715</td>\n      <td>0.289306</td>\n      <td>0.359930</td>\n      <td>0.988337</td>\n      <td>0.988423</td>\n      <td>86.707422</td>\n      <td>244332</td>\n      <td>670.307508</td>\n      <td>2.932379</td>\n      <td>1.723724</td>\n      <td>0.533015</td>\n    </tr>\n    <tr>\n      <th>16</th>\n      <td>2024-01-09 20:49:22</td>\n      <td>TCGA-AA-A01S</td>\n      <td>0.477311</td>\n      <td>1.794146</td>\n      <td>True</td>\n      <td>True</td>\n      <td>True</td>\n      <td>0.512719</td>\n      <td>0.001231</td>\n      <td>0.224532</td>\n      <td>0.363065</td>\n      <td>0.975650</td>\n      <td>0.977143</td>\n      <td>46.758160</td>\n      <td>257937</td>\n      <td>556.583840</td>\n      <td>2.570074</td>\n      <td>1.601195</td>\n      <td>0.456721</td>\n    </tr>\n    <tr>\n      <th>17</th>\n      <td>2024-01-11 11:09:28</td>\n      <td>TCGA-HE-A5NJ</td>\n      <td>0.217726</td>\n      <td>0.610148</td>\n      <td>True</td>\n      <td>True</td>\n      <td>True</td>\n      <td>0.375363</td>\n      <td>0.002881</td>\n      <td>0.160579</td>\n      <td>0.309219</td>\n      <td>0.995811</td>\n      <td>0.995926</td>\n      <td>250.656101</td>\n      <td>277842</td>\n      <td>815.211645</td>\n      <td>1.530837</td>\n      <td>2.174222</td>\n      <td>0.325156</td>\n    </tr>\n  </tbody>\n</table>\n</div>"
     },
     "execution_count": 1,
     "metadata": {},
     "output_type": "execute_result"
    }
   ],
   "source": [
    "import pandas as pd\n",
    "import json\n",
    "import os\n",
    "\n",
    "\n",
    "def find_json_files(parent_folder):\n",
    "    \"\"\"\n",
    "    Recursively finds all JSON files in subfolders of the given parent folder.\n",
    "\n",
    "    :param parent_folder: Path to the parent folder\n",
    "    :return: List of paths to JSON files\n",
    "    \"\"\"\n",
    "    json_files = []\n",
    "    for root, dirs, files in os.walk(parent_folder):\n",
    "        for file in files:\n",
    "            if file.endswith('.json'):\n",
    "                json_files.append(os.path.join(root, file))\n",
    "    return json_files\n",
    "\n",
    "\n",
    "def read_json_fields(json_file, fields):\n",
    "    \"\"\"Reads specified fields from a JSON file.\"\"\"\n",
    "    with open(json_file, 'r') as file:\n",
    "        data = json.load(file)\n",
    "\n",
    "        row_data = {}\n",
    "        for field in fields:\n",
    "            field_val = data.copy()\n",
    "            properties = field.split('.')\n",
    "            for prop in properties:\n",
    "                if isinstance(field_val, str):\n",
    "                    field_val = json.loads(field_val)\n",
    "                field_val = field_val[prop]\n",
    "\n",
    "            row_data[properties[-1]] = field_val\n",
    "        return row_data\n",
    "\n",
    "\n",
    "def create_dataframe(folder_path, fields):\n",
    "    \"\"\"Creates a DataFrame from JSON files in the given folder.\"\"\"\n",
    "    rows = []\n",
    "    json_files = find_json_files(folder_path)\n",
    "    for json_path in json_files:\n",
    "        row = read_json_fields(json_path, fields)\n",
    "        rows.append(row)\n",
    "\n",
    "    return pd.DataFrame(rows)\n",
    "\n",
    "\n",
    "# List of field paths to extract from the JSON files\n",
    "fields = [\n",
    "    'general.date',\n",
    "    'general.title',\n",
    "    # 'align.dup.rep1.pct_duplicate_reads',\n",
    "    # 'align.nodup_samstat.rep1.pct_mapped_reads',\n",
    "    # 'align.nodup_samstat.rep1.pct_properly_paired_reads',\n",
    "    'align.frag_len_stat.rep1.frac_reads_in_nfr',\n",
    "    'align.frag_len_stat.rep1.nfr_over_mono_nuc_reads',\n",
    "    'align.frag_len_stat.rep1.nfr_peak_exists',\n",
    "    'align.frag_len_stat.rep1.mono_nuc_peak_exists',\n",
    "    'align.frag_len_stat.rep1.di_nuc_peak_exists',\n",
    "    'align.frac_reads_in_annot.rep1.fri_dhs',\n",
    "    'align.frac_reads_in_annot.rep1.fri_blacklist',\n",
    "    'align.frac_reads_in_annot.rep1.fri_prom',\n",
    "    'align.frac_reads_in_annot.rep1.fri_enh',\n",
    "    'lib_complexity.lib_complexity.rep1.NRF',\n",
    "    'lib_complexity.lib_complexity.rep1.PBC1',\n",
    "    'lib_complexity.lib_complexity.rep1.PBC2',\n",
    "    'replication.num_peaks.rep1.num_peaks',\n",
    "    # 'peak_stat.peak_region_size.rep1.min_size',\n",
    "    'peak_stat.peak_region_size.rep1.mean',\n",
    "    'align_enrich.xcor_score.rep1.NSC',\n",
    "    'align_enrich.xcor_score.rep1.RSC',\n",
    "    'peak_enrich.frac_reads_in_peaks.macs2.rep1.frip'\n",
    "]\n",
    "\n",
    "folder_path = '../data/'\n",
    "\n",
    "df = create_dataframe(folder_path, fields)\n",
    "df"
   ],
   "metadata": {
    "collapsed": false,
    "ExecuteTime": {
     "end_time": "2024-02-07T13:53:27.991815Z",
     "start_time": "2024-02-07T13:53:27.453871Z"
    }
   }
  },
  {
   "cell_type": "code",
   "execution_count": 1,
   "outputs": [],
   "source": [],
   "metadata": {
    "collapsed": false,
    "ExecuteTime": {
     "end_time": "2024-02-07T13:53:27.993997Z",
     "start_time": "2024-02-07T13:53:27.992169Z"
    }
   }
  }
 ],
 "metadata": {
  "kernelspec": {
   "display_name": "Python 3",
   "language": "python",
   "name": "python3"
  },
  "language_info": {
   "codemirror_mode": {
    "name": "ipython",
    "version": 2
   },
   "file_extension": ".py",
   "mimetype": "text/x-python",
   "name": "python",
   "nbconvert_exporter": "python",
   "pygments_lexer": "ipython2",
   "version": "2.7.6"
  }
 },
 "nbformat": 4,
 "nbformat_minor": 0
}
